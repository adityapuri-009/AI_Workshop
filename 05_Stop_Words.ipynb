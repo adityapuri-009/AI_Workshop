{
  "nbformat": 4,
  "nbformat_minor": 0,
  "metadata": {
    "kernelspec": {
      "display_name": "Python 3",
      "language": "python",
      "name": "python3"
    },
    "language_info": {
      "codemirror_mode": {
        "name": "ipython",
        "version": 3
      },
      "file_extension": ".py",
      "mimetype": "text/x-python",
      "name": "python",
      "nbconvert_exporter": "python",
      "pygments_lexer": "ipython3",
      "version": "3.6.9"
    },
    "colab": {
      "name": "05_Stop_Words.ipynb",
      "provenance": [],
      "collapsed_sections": [],
      "toc_visible": true,
      "include_colab_link": true
    }
  },
  "cells": [
    {
      "cell_type": "markdown",
      "metadata": {
        "id": "view-in-github",
        "colab_type": "text"
      },
      "source": [
        "<a href=\"https://colab.research.google.com/github/adityapuri-009/AI_Workshop/blob/master/05_Stop_Words.ipynb\" target=\"_parent\"><img src=\"https://colab.research.google.com/assets/colab-badge.svg\" alt=\"Open In Colab\"/></a>"
      ]
    },
    {
      "cell_type": "markdown",
      "metadata": {
        "id": "a1LZJFBcUEtX",
        "colab_type": "text"
      },
      "source": [
        "# Stop Words\n",
        "Words like \"a\" and \"the\" appear so frequently that they don't require tagging as thoroughly as nouns, verbs and modifiers. We call these *stop words*, and they can be filtered from the text to be processed. spaCy holds a built-in list of some 305 English stop words."
      ]
    },
    {
      "cell_type": "code",
      "metadata": {
        "id": "1wxcq3q5UEtb",
        "colab_type": "code",
        "colab": {}
      },
      "source": [
        "# Perform standard imports:\n",
        "import spacy\n",
        "nlp = spacy.load('en_core_web_sm')"
      ],
      "execution_count": 0,
      "outputs": []
    },
    {
      "cell_type": "code",
      "metadata": {
        "id": "wiSWuhRIUEtg",
        "colab_type": "code",
        "outputId": "95d00260-6414-4753-883e-924437a4324a",
        "colab": {
          "base_uri": "https://localhost:8080/",
          "height": 54
        }
      },
      "source": [
        "# Print the set of spaCy's default stop words (remember that sets are unordered):\n",
        "print(nlp.Defaults.stop_words)"
      ],
      "execution_count": 2,
      "outputs": [
        {
          "output_type": "stream",
          "text": [
            "{'six', 'themselves', 'anyone', '‘re', 'almost', 'front', 'every', 'you', 'third', 'first', 'throughout', 'under', 'wherein', 'keep', 'again', 'such', 'hereafter', 'bottom', 'latterly', 'seems', 'twenty', 'when', 'anything', 'others', 'afterwards', \"'d\", 'whenever', 'whereafter', 'sometime', 'always', 'various', 'what', 'himself', 'about', 'being', 'is', 'regarding', 'a', 'alone', 'former', 'seemed', 'show', 'very', \"'re\", 'became', 'n‘t', 'nothing', '‘ve', 'eleven', '’re', 'those', 'whereupon', 'during', 'whoever', 'had', 'two', 'below', 'where', 'elsewhere', 'several', 'never', 'it', 'that', 'we', 'already', 'must', 'before', 'put', 'they', \"'ve\", 'now', 'should', 'quite', 'around', 'on', 'unless', 'done', 'am', 'another', 'ever', 'above', 'least', 'her', 'whole', 'hereupon', 'beforehand', '‘m', 'hence', 'hereby', 'latter', 'may', 'our', 'own', 'except', 'full', 'often', 'also', 'ourselves', 'perhaps', 'with', 'even', 'or', 'these', 'too', '’d', 'something', 'my', 'whence', 'fifteen', 'them', 'across', 'here', 'eight', 'neither', 'their', 'within', 'can', 'many', 'up', 'but', 'move', 'of', 'anywhere', 'are', 'seem', 'after', 'so', 'ten', 'more', 'meanwhile', 'thru', 'else', 'do', 'has', 'your', 'yourselves', 'few', \"'s\", 'four', 'once', 'although', 'made', 'itself', 'does', 'because', 'enough', 'if', 'not', 'onto', 'see', 'since', 'twelve', 'using', 'either', 'beyond', 'everyone', 'into', 'its', 'myself', 'side', 'some', 'could', 'though', 'noone', 'whereas', 'for', 'between', 'fifty', 'this', 'name', 'along', 'through', 'back', 'mine', 'therein', 'together', 'while', '’m', 'each', \"'m\", 'thereby', 'why', 'sixty', 'besides', 'everything', 'him', 'out', 'among', 'indeed', 'until', 'amount', 'via', 'whose', 'whereby', 'therefore', 'becomes', 'everywhere', 'yours', 'serious', 'behind', 'other', 'nobody', 'otherwise', 'part', 'in', 'ca', 'no', 'which', 'by', 'moreover', 'sometimes', 'from', 'beside', 'he', 'due', 'namely', 'as', 'been', 'might', '’ve', 'becoming', 'upon', 'say', 'yet', 'one', 'than', 'us', 'amongst', 'did', 'still', 're', 'take', 'much', 'there', 'less', 'someone', 'please', 'hundred', 'wherever', 'three', 'whom', 'she', 'thereupon', 'cannot', 'will', 'anyway', 'doing', 'get', 'only', 'call', 'nevertheless', 'yourself', 'towards', 'anyhow', 'off', 'have', 'would', 'me', 'herein', 'and', '‘s', 'become', 'however', 'used', 'five', 'i', 'go', 'whatever', 'per', \"n't\", 'well', '’ll', 'all', 'further', '’s', 'forty', 'mostly', 'over', 'just', 'empty', 'somewhere', 'against', 'whether', 'toward', 'his', 'hers', 'next', 'rather', 'thence', 'then', 'were', 'who', 'thus', '‘ll', 'make', 'give', 'to', 'an', 'whither', \"'ll\", 'top', 'without', 'really', 'at', 'any', 'nowhere', 'most', 'nor', 'nine', 'seeming', 'the', 'last', 'both', 'formerly', 'herself', 'was', 'same', 'ours', 'n’t', 'none', 'down', 'be', 'thereafter', '‘d', 'how', 'somehow'}\n"
          ],
          "name": "stdout"
        }
      ]
    },
    {
      "cell_type": "code",
      "metadata": {
        "id": "Clt090b2UEtl",
        "colab_type": "code",
        "outputId": "e83aa8e3-1c05-40a6-982a-dc482a746fe9",
        "colab": {
          "base_uri": "https://localhost:8080/",
          "height": 34
        }
      },
      "source": [
        "len(nlp.Defaults.stop_words)"
      ],
      "execution_count": 3,
      "outputs": [
        {
          "output_type": "execute_result",
          "data": {
            "text/plain": [
              "326"
            ]
          },
          "metadata": {
            "tags": []
          },
          "execution_count": 3
        }
      ]
    },
    {
      "cell_type": "markdown",
      "metadata": {
        "id": "Gw0EldGQUEts",
        "colab_type": "text"
      },
      "source": [
        "## To see if a word is a stop word"
      ]
    },
    {
      "cell_type": "code",
      "metadata": {
        "id": "woLuoAvkUEtu",
        "colab_type": "code",
        "outputId": "1242219e-a96c-48e5-b046-71d05aeac618",
        "colab": {
          "base_uri": "https://localhost:8080/",
          "height": 34
        }
      },
      "source": [
        "nlp.vocab['myself'].is_stop"
      ],
      "execution_count": 4,
      "outputs": [
        {
          "output_type": "execute_result",
          "data": {
            "text/plain": [
              "True"
            ]
          },
          "metadata": {
            "tags": []
          },
          "execution_count": 4
        }
      ]
    },
    {
      "cell_type": "code",
      "metadata": {
        "id": "QQp0puC_UEty",
        "colab_type": "code",
        "outputId": "f17cab05-3ab0-4730-e61c-a4707504f371",
        "colab": {}
      },
      "source": [
        ""
      ],
      "execution_count": 0,
      "outputs": [
        {
          "output_type": "execute_result",
          "data": {
            "text/plain": [
              "False"
            ]
          },
          "metadata": {
            "tags": []
          },
          "execution_count": 5
        }
      ]
    },
    {
      "cell_type": "markdown",
      "metadata": {
        "id": "QzWjPApOUEt2",
        "colab_type": "text"
      },
      "source": [
        "## To add a stop word\n",
        "There may be times when you wish to add a stop word to the default set. Perhaps you decide that `'btw'` (common shorthand for \"by the way\") should be considered a stop word."
      ]
    },
    {
      "cell_type": "code",
      "metadata": {
        "id": "qBlUaQbrUEt3",
        "colab_type": "code",
        "colab": {}
      },
      "source": [
        "# Add the word to the set of stop words. Use lowercase!\n",
        "\n",
        "nlp.Defaults.stop_words.add('btw')\n",
        "\n",
        "# Set the stop_word tag on the lexeme\n",
        "nlp.vocab['btw'].is_stop=True"
      ],
      "execution_count": 0,
      "outputs": []
    },
    {
      "cell_type": "code",
      "metadata": {
        "id": "4hIPFRcnUEt9",
        "colab_type": "code",
        "outputId": "fcb7b24e-03fa-4bca-dfc9-d145a30b8ffa",
        "colab": {
          "base_uri": "https://localhost:8080/",
          "height": 34
        }
      },
      "source": [
        "len(nlp.Defaults.stop_words)"
      ],
      "execution_count": 6,
      "outputs": [
        {
          "output_type": "execute_result",
          "data": {
            "text/plain": [
              "327"
            ]
          },
          "metadata": {
            "tags": []
          },
          "execution_count": 6
        }
      ]
    },
    {
      "cell_type": "code",
      "metadata": {
        "id": "nPOC_byjUEuC",
        "colab_type": "code",
        "outputId": "5e0d99ff-fa81-49dc-872a-c791e90a402a",
        "colab": {}
      },
      "source": [
        ""
      ],
      "execution_count": 0,
      "outputs": [
        {
          "output_type": "execute_result",
          "data": {
            "text/plain": [
              "True"
            ]
          },
          "metadata": {
            "tags": []
          },
          "execution_count": 8
        }
      ]
    },
    {
      "cell_type": "markdown",
      "metadata": {
        "id": "LG7Q4aLAUEuF",
        "colab_type": "text"
      },
      "source": [
        "<font color=green>When adding stop words, always use lowercase. Lexemes are converted to lowercase before being added to **vocab**.</font>"
      ]
    },
    {
      "cell_type": "markdown",
      "metadata": {
        "id": "OIbRG7CmUEuG",
        "colab_type": "text"
      },
      "source": [
        "## To remove a stop word\n",
        "Alternatively, you may decide that `'beyond'` should not be considered a stop word."
      ]
    },
    {
      "cell_type": "code",
      "metadata": {
        "id": "7CzpYBKgUEuH",
        "colab_type": "code",
        "colab": {}
      },
      "source": [
        "# Remove the word from the set of stop words\n",
        "\n",
        "nlp.Defaults.stop_words.remove('beyond')\n",
        "\n",
        "# Remove the stop_word tag from the lexeme\n",
        "nlp.vocab['btw'].is_stop=False"
      ],
      "execution_count": 0,
      "outputs": []
    },
    {
      "cell_type": "code",
      "metadata": {
        "id": "Au7gKUekUEuN",
        "colab_type": "code",
        "outputId": "a6f41e60-a9dd-47c5-d548-e7bd3e297fe1",
        "colab": {
          "base_uri": "https://localhost:8080/",
          "height": 34
        }
      },
      "source": [
        "len(nlp.Defaults.stop_words)"
      ],
      "execution_count": 8,
      "outputs": [
        {
          "output_type": "execute_result",
          "data": {
            "text/plain": [
              "326"
            ]
          },
          "metadata": {
            "tags": []
          },
          "execution_count": 8
        }
      ]
    },
    {
      "cell_type": "code",
      "metadata": {
        "id": "colhFpzzUEuR",
        "colab_type": "code",
        "outputId": "aeaed0fe-9164-4fca-c5a3-356e99012ffc",
        "colab": {}
      },
      "source": [
        ""
      ],
      "execution_count": 0,
      "outputs": [
        {
          "output_type": "execute_result",
          "data": {
            "text/plain": [
              "False"
            ]
          },
          "metadata": {
            "tags": []
          },
          "execution_count": 11
        }
      ]
    },
    {
      "cell_type": "markdown",
      "metadata": {
        "id": "HhPYd7U3UEuU",
        "colab_type": "text"
      },
      "source": [
        "Great! Now you should be able to access spaCy's default set of stop words, and add or remove stop words as needed.\n",
        "## Next up: Vocabulary and Matching"
      ]
    }
  ]
}